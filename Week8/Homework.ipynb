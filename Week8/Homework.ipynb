{
  "nbformat": 4,
  "nbformat_minor": 0,
  "metadata": {
    "colab": {
      "provenance": []
    },
    "kernelspec": {
      "name": "python3",
      "display_name": "Python 3"
    },
    "language_info": {
      "name": "python"
    },
    "accelerator": "GPU",
    "gpuClass": "standard"
  },
  "cells": [
    {
      "cell_type": "code",
      "execution_count": null,
      "metadata": {
        "id": "WDJXC9p9QS6t"
      },
      "outputs": [],
      "source": [
        "!wget https://github.com/alexeygrigorev/dino-or-dragon/releases/download/data/dino-dragon.zip\n",
        "!unzip dino-dragon.zip"
      ]
    },
    {
      "cell_type": "code",
      "source": [
        "import tensorflow as tf\n",
        "from tensorflow import keras\n",
        "\n",
        "from keras.preprocessing.image import ImageDataGenerator\n",
        "from keras.layers import Dense, Flatten, Conv2D, MaxPooling2D\n",
        "from keras.models import Sequential\n",
        "\n",
        "from keras.applications.xception import Xception\n",
        "from keras.applications.xception import preprocess_input\n",
        "\n",
        "import numpy as np"
      ],
      "metadata": {
        "id": "rPMsTkmPQYGO"
      },
      "execution_count": 19,
      "outputs": []
    },
    {
      "cell_type": "code",
      "source": [
        "tf.config.list_physical_devices('GPU')"
      ],
      "metadata": {
        "colab": {
          "base_uri": "https://localhost:8080/"
        },
        "id": "Z63ia8gDQZw-",
        "outputId": "5f73523d-f2f5-4a6b-b02f-708b07197a79"
      },
      "execution_count": 4,
      "outputs": [
        {
          "output_type": "execute_result",
          "data": {
            "text/plain": [
              "[PhysicalDevice(name='/physical_device:GPU:0', device_type='GPU')]"
            ]
          },
          "metadata": {},
          "execution_count": 4
        }
      ]
    },
    {
      "cell_type": "code",
      "source": [
        "train = ImageDataGenerator(rescale=1/255)\n",
        "validation = ImageDataGenerator(rescale=1/255)\n",
        "\n",
        "train_dataset = train.flow_from_directory('train',\n",
        "                                            target_size=(150, 150),\n",
        "                                            batch_size=20,\n",
        "                                            class_mode='binary',\n",
        "                                            seed=42)\n",
        "validation_dataset = train.flow_from_directory('test',\n",
        "                                            target_size=(150, 150),\n",
        "                                            batch_size=20,\n",
        "                                            class_mode='binary',\n",
        "                                            seed=42)"
      ],
      "metadata": {
        "colab": {
          "base_uri": "https://localhost:8080/"
        },
        "id": "4VjatPooQZ6-",
        "outputId": "f141ee9a-9c9a-4f54-e1f3-69aa986f662e"
      },
      "execution_count": 12,
      "outputs": [
        {
          "output_type": "stream",
          "name": "stdout",
          "text": [
            "Found 1594 images belonging to 2 classes.\n",
            "Found 394 images belonging to 2 classes.\n"
          ]
        }
      ]
    },
    {
      "cell_type": "code",
      "source": [
        "model = Sequential()\n",
        "model.add(Conv2D(32, (3, 3), activation='relu', input_shape=(150,150, 3)))\n",
        "model.add(MaxPooling2D((2, 2)))\n",
        "model.add(Flatten())\n",
        "model.add(Dense(64, activation='relu'))\n",
        "model.add(Dense(1, activation='sigmoid'))"
      ],
      "metadata": {
        "id": "d6ofsy3RQaaW"
      },
      "execution_count": 13,
      "outputs": []
    },
    {
      "cell_type": "markdown",
      "source": [
        "## Question 1"
      ],
      "metadata": {
        "id": "9L1scQxOUQdl"
      }
    },
    {
      "cell_type": "code",
      "source": [
        "model.compile(optimizer=keras.optimizers.SGD(learning_rate=0.002, momentum=0.8), loss=keras.losses.BinaryCrossentropy(), metrics=['accuracy'])\n",
        "\n",
        "history = model.fit(train_dataset, epochs=10, validation_data=validation_dataset)"
      ],
      "metadata": {
        "colab": {
          "base_uri": "https://localhost:8080/"
        },
        "id": "qUy4GFHzQd-n",
        "outputId": "7b7477fc-a0c8-40d8-8877-2e570af05036"
      },
      "execution_count": 15,
      "outputs": [
        {
          "output_type": "stream",
          "name": "stdout",
          "text": [
            "Epoch 1/10\n",
            "80/80 [==============================] - 17s 107ms/step - loss: 0.6382 - accuracy: 0.6349 - val_loss: 0.5192 - val_accuracy: 0.7817\n",
            "Epoch 2/10\n",
            "80/80 [==============================] - 10s 120ms/step - loss: 0.4768 - accuracy: 0.7930 - val_loss: 0.5093 - val_accuracy: 0.7107\n",
            "Epoch 3/10\n",
            "80/80 [==============================] - 9s 107ms/step - loss: 0.3976 - accuracy: 0.8350 - val_loss: 0.3669 - val_accuracy: 0.8553\n",
            "Epoch 4/10\n",
            "80/80 [==============================] - 8s 105ms/step - loss: 0.3724 - accuracy: 0.8457 - val_loss: 0.3556 - val_accuracy: 0.8604\n",
            "Epoch 5/10\n",
            "80/80 [==============================] - 8s 105ms/step - loss: 0.3106 - accuracy: 0.8802 - val_loss: 0.3270 - val_accuracy: 0.8680\n",
            "Epoch 6/10\n",
            "80/80 [==============================] - 9s 112ms/step - loss: 0.2651 - accuracy: 0.9053 - val_loss: 0.3098 - val_accuracy: 0.8655\n",
            "Epoch 7/10\n",
            "80/80 [==============================] - 9s 111ms/step - loss: 0.2456 - accuracy: 0.9103 - val_loss: 0.3809 - val_accuracy: 0.8147\n",
            "Epoch 8/10\n",
            "80/80 [==============================] - 8s 105ms/step - loss: 0.2444 - accuracy: 0.9090 - val_loss: 0.2756 - val_accuracy: 0.8832\n",
            "Epoch 9/10\n",
            "80/80 [==============================] - 8s 105ms/step - loss: 0.1923 - accuracy: 0.9335 - val_loss: 0.2822 - val_accuracy: 0.8680\n",
            "Epoch 10/10\n",
            "80/80 [==============================] - 9s 107ms/step - loss: 0.1751 - accuracy: 0.9385 - val_loss: 0.2766 - val_accuracy: 0.8959\n"
          ]
        }
      ]
    },
    {
      "cell_type": "markdown",
      "source": [
        "## Question 2"
      ],
      "metadata": {
        "id": "E2HjBTqPUVL7"
      }
    },
    {
      "cell_type": "code",
      "source": [
        "model.summary()"
      ],
      "metadata": {
        "colab": {
          "base_uri": "https://localhost:8080/"
        },
        "id": "3QAajEbVUNMS",
        "outputId": "3b90e7aa-68e7-4796-9956-dbc6c40baa28"
      },
      "execution_count": 30,
      "outputs": [
        {
          "output_type": "stream",
          "name": "stdout",
          "text": [
            "Model: \"sequential_1\"\n",
            "_________________________________________________________________\n",
            " Layer (type)                Output Shape              Param #   \n",
            "=================================================================\n",
            " conv2d_1 (Conv2D)           (None, 148, 148, 32)      896       \n",
            "                                                                 \n",
            " max_pooling2d_1 (MaxPooling  (None, 74, 74, 32)       0         \n",
            " 2D)                                                             \n",
            "                                                                 \n",
            " flatten_1 (Flatten)         (None, 175232)            0         \n",
            "                                                                 \n",
            " dense_2 (Dense)             (None, 64)                11214912  \n",
            "                                                                 \n",
            " dense_3 (Dense)             (None, 1)                 65        \n",
            "                                                                 \n",
            "=================================================================\n",
            "Total params: 11,215,873\n",
            "Trainable params: 11,215,873\n",
            "Non-trainable params: 0\n",
            "_________________________________________________________________\n"
          ]
        }
      ]
    },
    {
      "cell_type": "markdown",
      "source": [
        "## Question 3"
      ],
      "metadata": {
        "id": "BYhsZR_7Ucbn"
      }
    },
    {
      "cell_type": "code",
      "source": [
        "np.median(history.history[\"accuracy\"])"
      ],
      "metadata": {
        "colab": {
          "base_uri": "https://localhost:8080/"
        },
        "id": "ECP84Ub1QeoW",
        "outputId": "b896358f-ae33-4d44-da4a-7522fdcf1ca0"
      },
      "execution_count": 20,
      "outputs": [
        {
          "output_type": "execute_result",
          "data": {
            "text/plain": [
              "0.8927226960659027"
            ]
          },
          "metadata": {},
          "execution_count": 20
        }
      ]
    },
    {
      "cell_type": "markdown",
      "source": [
        "## Question 4"
      ],
      "metadata": {
        "id": "ldMiVv7EUeRU"
      }
    },
    {
      "cell_type": "code",
      "source": [
        "np.std(history.history[\"loss\"])"
      ],
      "metadata": {
        "colab": {
          "base_uri": "https://localhost:8080/"
        },
        "id": "-x5-9rFXQ09L",
        "outputId": "3b457dbe-073b-464b-a1f9-734d0e89a110"
      },
      "execution_count": 21,
      "outputs": [
        {
          "output_type": "execute_result",
          "data": {
            "text/plain": [
              "0.13597207903610947"
            ]
          },
          "metadata": {},
          "execution_count": 21
        }
      ]
    },
    {
      "cell_type": "code",
      "source": [
        "train = ImageDataGenerator(rescale=1/255,rotation_range=40,\n",
        "                            width_shift_range=0.2,\n",
        "                            height_shift_range=0.2,\n",
        "                            shear_range=0.2,\n",
        "                            zoom_range=0.2,\n",
        "                            horizontal_flip=True,\n",
        "                            fill_mode='nearest')\n",
        "validation = ImageDataGenerator(rescale=1/255,\n",
        "                                rotation_range=40,\n",
        "                                width_shift_range=0.2,\n",
        "                                height_shift_range=0.2,\n",
        "                                shear_range=0.2,\n",
        "                                zoom_range=0.2,\n",
        "                                horizontal_flip=True,\n",
        "                                fill_mode='nearest')\n",
        "\n",
        "train_dataset = train.flow_from_directory('train',\n",
        "                                            target_size=(150, 150),\n",
        "                                            batch_size=20,\n",
        "                                            class_mode='binary',\n",
        "                                            seed=42)\n",
        "validation_dataset = train.flow_from_directory('test',\n",
        "                                            target_size=(150, 150),\n",
        "                                            batch_size=20,\n",
        "                                            class_mode='binary',\n",
        "                                            seed=42)"
      ],
      "metadata": {
        "colab": {
          "base_uri": "https://localhost:8080/"
        },
        "id": "CjrE0KTYR-ab",
        "outputId": "4428b3d6-81a5-4cfa-f814-ec9a6b9dea07"
      },
      "execution_count": 22,
      "outputs": [
        {
          "output_type": "stream",
          "name": "stdout",
          "text": [
            "Found 1594 images belonging to 2 classes.\n",
            "Found 394 images belonging to 2 classes.\n"
          ]
        }
      ]
    },
    {
      "cell_type": "code",
      "source": [
        "history = model.fit(train_dataset, epochs=10, validation_data=validation_dataset)"
      ],
      "metadata": {
        "colab": {
          "base_uri": "https://localhost:8080/"
        },
        "id": "7a1C0GPBSUcd",
        "outputId": "d6f84dbc-d923-483d-c2d6-d80246e3b92a"
      },
      "execution_count": 23,
      "outputs": [
        {
          "output_type": "stream",
          "name": "stdout",
          "text": [
            "Epoch 1/10\n",
            "80/80 [==============================] - 18s 225ms/step - loss: 0.4506 - accuracy: 0.7898 - val_loss: 0.3794 - val_accuracy: 0.8426\n",
            "Epoch 2/10\n",
            "80/80 [==============================] - 17s 207ms/step - loss: 0.4125 - accuracy: 0.8174 - val_loss: 0.3819 - val_accuracy: 0.8147\n",
            "Epoch 3/10\n",
            "80/80 [==============================] - 16s 205ms/step - loss: 0.4089 - accuracy: 0.8162 - val_loss: 0.3586 - val_accuracy: 0.8477\n",
            "Epoch 4/10\n",
            "80/80 [==============================] - 16s 204ms/step - loss: 0.3675 - accuracy: 0.8388 - val_loss: 0.5403 - val_accuracy: 0.7335\n",
            "Epoch 5/10\n",
            "80/80 [==============================] - 16s 205ms/step - loss: 0.3899 - accuracy: 0.8294 - val_loss: 0.3748 - val_accuracy: 0.8147\n",
            "Epoch 6/10\n",
            "80/80 [==============================] - 17s 213ms/step - loss: 0.3693 - accuracy: 0.8306 - val_loss: 0.3598 - val_accuracy: 0.8579\n",
            "Epoch 7/10\n",
            "80/80 [==============================] - 16s 206ms/step - loss: 0.3806 - accuracy: 0.8350 - val_loss: 0.3512 - val_accuracy: 0.8477\n",
            "Epoch 8/10\n",
            "80/80 [==============================] - 16s 203ms/step - loss: 0.3545 - accuracy: 0.8532 - val_loss: 0.3399 - val_accuracy: 0.8426\n",
            "Epoch 9/10\n",
            "80/80 [==============================] - 16s 204ms/step - loss: 0.3283 - accuracy: 0.8576 - val_loss: 0.3462 - val_accuracy: 0.8503\n",
            "Epoch 10/10\n",
            "80/80 [==============================] - 16s 204ms/step - loss: 0.3374 - accuracy: 0.8607 - val_loss: 0.3902 - val_accuracy: 0.8147\n"
          ]
        }
      ]
    },
    {
      "cell_type": "markdown",
      "source": [
        "## Question 5"
      ],
      "metadata": {
        "id": "auwrZIxpUglt"
      }
    },
    {
      "cell_type": "code",
      "source": [
        "np.average(history.history[\"val_accuracy\"][5:])"
      ],
      "metadata": {
        "colab": {
          "base_uri": "https://localhost:8080/"
        },
        "id": "to9W0H-VSU2d",
        "outputId": "2f39dcbb-d07a-4a10-a3ab-1bb2d77ed77d"
      },
      "execution_count": 29,
      "outputs": [
        {
          "output_type": "execute_result",
          "data": {
            "text/plain": [
              "0.8426395893096924"
            ]
          },
          "metadata": {},
          "execution_count": 29
        }
      ]
    },
    {
      "cell_type": "markdown",
      "source": [
        "## Question 6"
      ],
      "metadata": {
        "id": "dBl-6PZEUiNq"
      }
    },
    {
      "cell_type": "code",
      "source": [
        "np.mean(history.history[\"val_loss\"])"
      ],
      "metadata": {
        "colab": {
          "base_uri": "https://localhost:8080/"
        },
        "id": "sjHZ--k_SWKc",
        "outputId": "6435d266-98c1-49c7-b575-6e251334beb9"
      },
      "execution_count": 27,
      "outputs": [
        {
          "output_type": "execute_result",
          "data": {
            "text/plain": [
              "0.3822375774383545"
            ]
          },
          "metadata": {},
          "execution_count": 27
        }
      ]
    }
  ]
}